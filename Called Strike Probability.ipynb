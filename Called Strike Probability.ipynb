{
 "cells": [
  {
   "cell_type": "markdown",
   "metadata": {},
   "source": [
    "# Called Strike Probability"
   ]
  },
  {
   "cell_type": "markdown",
   "metadata": {},
   "source": [
    "Build a model to predict the probability of a called strike of a given pitch with various features."
   ]
  },
  {
   "cell_type": "markdown",
   "metadata": {},
   "source": [
    "## Exploratory Data Analysis"
   ]
  },
  {
   "cell_type": "code",
   "execution_count": 1,
   "metadata": {},
   "outputs": [],
   "source": [
    "# import the needed packages\n",
    "import pandas as pd\n",
    "import numpy as np\n",
    "import seaborn as sns\n",
    "import matplotlib.pyplot as plt\n",
    "import time as time\n",
    "from numpy import isnan\n",
    "from sklearn.impute import KNNImputer\n",
    "from sklearn.preprocessing import StandardScaler\n",
    "from sklearn.model_selection import cross_validate\n",
    "from sklearn.metrics import f1_score, accuracy_score, log_loss, roc_auc_score, make_scorer\n",
    "from sklearn.linear_model import LogisticRegression\n",
    "from sklearn.neighbors import KNeighborsClassifier\n",
    "from sklearn.tree import DecisionTreeClassifier\n",
    "from sklearn.ensemble import RandomForestClassifier, GradientBoostingClassifier\n",
    "from xgboost import XGBClassifier\n",
    "from sklearn.model_selection import train_test_split\n",
    "from sklearn.metrics import classification_report\n",
    "from sklearn.model_selection import GridSearchCV\n",
    "from sklearn import metrics\n",
    "from sklearn.metrics import roc_auc_score\n",
    "from sklearn.metrics import roc_curve "
   ]
  },
  {
   "cell_type": "code",
   "execution_count": 2,
   "metadata": {},
   "outputs": [],
   "source": [
    "# load the dataset\n",
    "pitch_data = pd.read_csv(r'C:\\Users\\allen\\Desktop\\Baseball Analytics Coding Task\\CIN\\pitch_data_one_month.csv')"
   ]
  },
  {
   "cell_type": "code",
   "execution_count": 3,
   "metadata": {},
   "outputs": [
    {
     "name": "stdout",
     "output_type": "stream",
     "text": [
      "<class 'pandas.core.frame.DataFrame'>\n",
      "RangeIndex: 125990 entries, 0 to 125989\n",
      "Data columns (total 40 columns):\n",
      " #   Column                     Non-Null Count   Dtype  \n",
      "---  ------                     --------------   -----  \n",
      " 0   Unnamed: 0                 125990 non-null  int64  \n",
      " 1   GAME_ID                    125990 non-null  int64  \n",
      " 2   PA_IN_GAME                 125990 non-null  int64  \n",
      " 3   PITCH_IN_PA                125990 non-null  int64  \n",
      " 4   CATCHER_ID                 125990 non-null  int64  \n",
      " 5   PITCHER_ID                 125990 non-null  int64  \n",
      " 6   BATTER_ID                  125990 non-null  int64  \n",
      " 7   UMPIRE_ID                  125990 non-null  int64  \n",
      " 8   BALLPARK_ID                125990 non-null  int64  \n",
      " 9   BALLS                      125990 non-null  int64  \n",
      " 10  STRIKES                    125990 non-null  int64  \n",
      " 11  OUTS                       125990 non-null  int64  \n",
      " 12  INNING                     125990 non-null  int64  \n",
      " 13  INNING_HALF                125990 non-null  object \n",
      " 14  AWAY_TEAM_SCORE            125990 non-null  int64  \n",
      " 15  HOME_TEAM_SCORE            125990 non-null  int64  \n",
      " 16  RUNNER_ON_1B               125990 non-null  int64  \n",
      " 17  RUNNER_ON_2B               125990 non-null  int64  \n",
      " 18  RUNNER_ON_3B               125990 non-null  int64  \n",
      " 19  PITCH_RESULT               125867 non-null  object \n",
      " 20  EVENT_RESULT               32677 non-null   object \n",
      " 21  BATTER_SIDE                125990 non-null  object \n",
      " 22  PITCHER_SIDE               125990 non-null  object \n",
      " 23  PITCH_TYPE                 125874 non-null  object \n",
      " 24  PITCH_SPEED                125486 non-null  float64\n",
      " 25  PITCH_LOCATION_SIDE        125478 non-null  float64\n",
      " 26  PITCH_LOCATION_HEIGHT      125478 non-null  float64\n",
      " 27  STRIKE_ZONE_TOP            125990 non-null  float64\n",
      " 28  STRIKE_ZONE_BOTTOM         125990 non-null  float64\n",
      " 29  SPIN_RATE                  123085 non-null  float64\n",
      " 30  INDUCED_VERTICAL_BREAK     125477 non-null  float64\n",
      " 31  HORIZONTAL_BREAK           125477 non-null  float64\n",
      " 32  VERTICAL_APPROACH_ANGLE    125478 non-null  float64\n",
      " 33  HORIZONTAL_APPROACH_ANGLE  125478 non-null  float64\n",
      " 34  RELEASE_SIDE               125477 non-null  float64\n",
      " 35  RELEASE_HEIGHT             125477 non-null  float64\n",
      " 36  RELEASE_EXTENSION          125477 non-null  float64\n",
      " 37  EXIT_VELOCITY              19709 non-null   float64\n",
      " 38  LAUNCH_ANGLE               19709 non-null   float64\n",
      " 39  SPRAY_ANGLE                19709 non-null   float64\n",
      "dtypes: float64(16), int64(18), object(6)\n",
      "memory usage: 38.4+ MB\n"
     ]
    }
   ],
   "source": [
    "# Summary of the dataframe with the pandas info() method.\n",
    "pitch_data.info()"
   ]
  },
  {
   "cell_type": "code",
   "execution_count": 4,
   "metadata": {},
   "outputs": [
    {
     "data": {
      "text/html": [
       "<div>\n",
       "<style scoped>\n",
       "    .dataframe tbody tr th:only-of-type {\n",
       "        vertical-align: middle;\n",
       "    }\n",
       "\n",
       "    .dataframe tbody tr th {\n",
       "        vertical-align: top;\n",
       "    }\n",
       "\n",
       "    .dataframe thead th {\n",
       "        text-align: right;\n",
       "    }\n",
       "</style>\n",
       "<table border=\"1\" class=\"dataframe\">\n",
       "  <thead>\n",
       "    <tr style=\"text-align: right;\">\n",
       "      <th></th>\n",
       "      <th>Unnamed: 0</th>\n",
       "      <th>GAME_ID</th>\n",
       "      <th>PA_IN_GAME</th>\n",
       "      <th>PITCH_IN_PA</th>\n",
       "      <th>CATCHER_ID</th>\n",
       "      <th>PITCHER_ID</th>\n",
       "      <th>BATTER_ID</th>\n",
       "      <th>UMPIRE_ID</th>\n",
       "      <th>BALLPARK_ID</th>\n",
       "      <th>BALLS</th>\n",
       "      <th>...</th>\n",
       "      <th>INDUCED_VERTICAL_BREAK</th>\n",
       "      <th>HORIZONTAL_BREAK</th>\n",
       "      <th>VERTICAL_APPROACH_ANGLE</th>\n",
       "      <th>HORIZONTAL_APPROACH_ANGLE</th>\n",
       "      <th>RELEASE_SIDE</th>\n",
       "      <th>RELEASE_HEIGHT</th>\n",
       "      <th>RELEASE_EXTENSION</th>\n",
       "      <th>EXIT_VELOCITY</th>\n",
       "      <th>LAUNCH_ANGLE</th>\n",
       "      <th>SPRAY_ANGLE</th>\n",
       "    </tr>\n",
       "  </thead>\n",
       "  <tbody>\n",
       "    <tr>\n",
       "      <th>0</th>\n",
       "      <td>1</td>\n",
       "      <td>171</td>\n",
       "      <td>72</td>\n",
       "      <td>5</td>\n",
       "      <td>57</td>\n",
       "      <td>13</td>\n",
       "      <td>2</td>\n",
       "      <td>11</td>\n",
       "      <td>1</td>\n",
       "      <td>3</td>\n",
       "      <td>...</td>\n",
       "      <td>10.583700</td>\n",
       "      <td>15.77840</td>\n",
       "      <td>-6.68832</td>\n",
       "      <td>2.09536</td>\n",
       "      <td>0.350211</td>\n",
       "      <td>5.95656</td>\n",
       "      <td>6.33452</td>\n",
       "      <td>86.659058</td>\n",
       "      <td>-4.598840</td>\n",
       "      <td>-12.986703</td>\n",
       "    </tr>\n",
       "    <tr>\n",
       "      <th>1</th>\n",
       "      <td>2</td>\n",
       "      <td>171</td>\n",
       "      <td>25</td>\n",
       "      <td>1</td>\n",
       "      <td>33</td>\n",
       "      <td>480</td>\n",
       "      <td>121</td>\n",
       "      <td>11</td>\n",
       "      <td>1</td>\n",
       "      <td>0</td>\n",
       "      <td>...</td>\n",
       "      <td>20.652599</td>\n",
       "      <td>-7.98328</td>\n",
       "      <td>-4.67584</td>\n",
       "      <td>1.20689</td>\n",
       "      <td>-1.451240</td>\n",
       "      <td>5.81709</td>\n",
       "      <td>6.06574</td>\n",
       "      <td>NaN</td>\n",
       "      <td>NaN</td>\n",
       "      <td>NaN</td>\n",
       "    </tr>\n",
       "    <tr>\n",
       "      <th>2</th>\n",
       "      <td>3</td>\n",
       "      <td>171</td>\n",
       "      <td>63</td>\n",
       "      <td>2</td>\n",
       "      <td>57</td>\n",
       "      <td>247</td>\n",
       "      <td>201</td>\n",
       "      <td>11</td>\n",
       "      <td>1</td>\n",
       "      <td>1</td>\n",
       "      <td>...</td>\n",
       "      <td>-1.737540</td>\n",
       "      <td>8.00289</td>\n",
       "      <td>-10.34140</td>\n",
       "      <td>4.36072</td>\n",
       "      <td>-2.303100</td>\n",
       "      <td>6.16600</td>\n",
       "      <td>6.14947</td>\n",
       "      <td>NaN</td>\n",
       "      <td>NaN</td>\n",
       "      <td>NaN</td>\n",
       "    </tr>\n",
       "    <tr>\n",
       "      <th>3</th>\n",
       "      <td>4</td>\n",
       "      <td>171</td>\n",
       "      <td>10</td>\n",
       "      <td>4</td>\n",
       "      <td>57</td>\n",
       "      <td>245</td>\n",
       "      <td>312</td>\n",
       "      <td>11</td>\n",
       "      <td>1</td>\n",
       "      <td>3</td>\n",
       "      <td>...</td>\n",
       "      <td>14.339600</td>\n",
       "      <td>-6.51659</td>\n",
       "      <td>-5.61544</td>\n",
       "      <td>1.49181</td>\n",
       "      <td>-2.357300</td>\n",
       "      <td>5.16776</td>\n",
       "      <td>6.66450</td>\n",
       "      <td>NaN</td>\n",
       "      <td>NaN</td>\n",
       "      <td>NaN</td>\n",
       "    </tr>\n",
       "    <tr>\n",
       "      <th>4</th>\n",
       "      <td>5</td>\n",
       "      <td>171</td>\n",
       "      <td>11</td>\n",
       "      <td>3</td>\n",
       "      <td>57</td>\n",
       "      <td>245</td>\n",
       "      <td>2</td>\n",
       "      <td>11</td>\n",
       "      <td>1</td>\n",
       "      <td>1</td>\n",
       "      <td>...</td>\n",
       "      <td>5.516960</td>\n",
       "      <td>-12.98960</td>\n",
       "      <td>-5.74303</td>\n",
       "      <td>1.26949</td>\n",
       "      <td>-2.258840</td>\n",
       "      <td>5.28204</td>\n",
       "      <td>6.81603</td>\n",
       "      <td>106.085579</td>\n",
       "      <td>-10.664643</td>\n",
       "      <td>10.862201</td>\n",
       "    </tr>\n",
       "  </tbody>\n",
       "</table>\n",
       "<p>5 rows × 40 columns</p>\n",
       "</div>"
      ],
      "text/plain": [
       "   Unnamed: 0  GAME_ID  PA_IN_GAME  PITCH_IN_PA  CATCHER_ID  PITCHER_ID  \\\n",
       "0           1      171          72            5          57          13   \n",
       "1           2      171          25            1          33         480   \n",
       "2           3      171          63            2          57         247   \n",
       "3           4      171          10            4          57         245   \n",
       "4           5      171          11            3          57         245   \n",
       "\n",
       "   BATTER_ID  UMPIRE_ID  BALLPARK_ID  BALLS  ...  INDUCED_VERTICAL_BREAK  \\\n",
       "0          2         11            1      3  ...               10.583700   \n",
       "1        121         11            1      0  ...               20.652599   \n",
       "2        201         11            1      1  ...               -1.737540   \n",
       "3        312         11            1      3  ...               14.339600   \n",
       "4          2         11            1      1  ...                5.516960   \n",
       "\n",
       "   HORIZONTAL_BREAK  VERTICAL_APPROACH_ANGLE HORIZONTAL_APPROACH_ANGLE  \\\n",
       "0          15.77840                 -6.68832                   2.09536   \n",
       "1          -7.98328                 -4.67584                   1.20689   \n",
       "2           8.00289                -10.34140                   4.36072   \n",
       "3          -6.51659                 -5.61544                   1.49181   \n",
       "4         -12.98960                 -5.74303                   1.26949   \n",
       "\n",
       "   RELEASE_SIDE  RELEASE_HEIGHT  RELEASE_EXTENSION  EXIT_VELOCITY  \\\n",
       "0      0.350211         5.95656            6.33452      86.659058   \n",
       "1     -1.451240         5.81709            6.06574            NaN   \n",
       "2     -2.303100         6.16600            6.14947            NaN   \n",
       "3     -2.357300         5.16776            6.66450            NaN   \n",
       "4     -2.258840         5.28204            6.81603     106.085579   \n",
       "\n",
       "   LAUNCH_ANGLE SPRAY_ANGLE  \n",
       "0     -4.598840  -12.986703  \n",
       "1           NaN         NaN  \n",
       "2           NaN         NaN  \n",
       "3           NaN         NaN  \n",
       "4    -10.664643   10.862201  \n",
       "\n",
       "[5 rows x 40 columns]"
      ]
     },
     "execution_count": 4,
     "metadata": {},
     "output_type": "execute_result"
    }
   ],
   "source": [
    "# Top 5 rows of the pandas dataframe with the pandas head() method\n",
    "pitch_data.head()"
   ]
  },
  {
   "cell_type": "code",
   "execution_count": 5,
   "metadata": {
    "scrolled": false
   },
   "outputs": [
    {
     "data": {
      "text/html": [
       "<div>\n",
       "<style scoped>\n",
       "    .dataframe tbody tr th:only-of-type {\n",
       "        vertical-align: middle;\n",
       "    }\n",
       "\n",
       "    .dataframe tbody tr th {\n",
       "        vertical-align: top;\n",
       "    }\n",
       "\n",
       "    .dataframe thead th {\n",
       "        text-align: right;\n",
       "    }\n",
       "</style>\n",
       "<table border=\"1\" class=\"dataframe\">\n",
       "  <thead>\n",
       "    <tr style=\"text-align: right;\">\n",
       "      <th></th>\n",
       "      <th>Unnamed: 0</th>\n",
       "      <th>GAME_ID</th>\n",
       "      <th>PA_IN_GAME</th>\n",
       "      <th>PITCH_IN_PA</th>\n",
       "      <th>CATCHER_ID</th>\n",
       "      <th>PITCHER_ID</th>\n",
       "      <th>BATTER_ID</th>\n",
       "      <th>UMPIRE_ID</th>\n",
       "      <th>BALLPARK_ID</th>\n",
       "      <th>BALLS</th>\n",
       "      <th>...</th>\n",
       "      <th>INDUCED_VERTICAL_BREAK</th>\n",
       "      <th>HORIZONTAL_BREAK</th>\n",
       "      <th>VERTICAL_APPROACH_ANGLE</th>\n",
       "      <th>HORIZONTAL_APPROACH_ANGLE</th>\n",
       "      <th>RELEASE_SIDE</th>\n",
       "      <th>RELEASE_HEIGHT</th>\n",
       "      <th>RELEASE_EXTENSION</th>\n",
       "      <th>EXIT_VELOCITY</th>\n",
       "      <th>LAUNCH_ANGLE</th>\n",
       "      <th>SPRAY_ANGLE</th>\n",
       "    </tr>\n",
       "  </thead>\n",
       "  <tbody>\n",
       "    <tr>\n",
       "      <th>count</th>\n",
       "      <td>125990.000000</td>\n",
       "      <td>125990.000000</td>\n",
       "      <td>125990.000000</td>\n",
       "      <td>125990.000000</td>\n",
       "      <td>125990.000000</td>\n",
       "      <td>125990.000000</td>\n",
       "      <td>125990.000000</td>\n",
       "      <td>125990.000000</td>\n",
       "      <td>125990.000000</td>\n",
       "      <td>125990.000000</td>\n",
       "      <td>...</td>\n",
       "      <td>125477.000000</td>\n",
       "      <td>125477.000000</td>\n",
       "      <td>125478.000000</td>\n",
       "      <td>125478.000000</td>\n",
       "      <td>125477.000000</td>\n",
       "      <td>125477.000000</td>\n",
       "      <td>125477.000000</td>\n",
       "      <td>19709.000000</td>\n",
       "      <td>19709.000000</td>\n",
       "      <td>19709.000000</td>\n",
       "    </tr>\n",
       "    <tr>\n",
       "      <th>mean</th>\n",
       "      <td>62995.500000</td>\n",
       "      <td>209.136241</td>\n",
       "      <td>39.392841</td>\n",
       "      <td>2.934423</td>\n",
       "      <td>38.267918</td>\n",
       "      <td>266.021073</td>\n",
       "      <td>307.016152</td>\n",
       "      <td>45.107247</td>\n",
       "      <td>15.979998</td>\n",
       "      <td>0.893523</td>\n",
       "      <td>...</td>\n",
       "      <td>8.669586</td>\n",
       "      <td>-1.576582</td>\n",
       "      <td>-6.590230</td>\n",
       "      <td>0.615533</td>\n",
       "      <td>-0.695532</td>\n",
       "      <td>5.920421</td>\n",
       "      <td>6.087316</td>\n",
       "      <td>89.019422</td>\n",
       "      <td>11.638776</td>\n",
       "      <td>-1.271202</td>\n",
       "    </tr>\n",
       "    <tr>\n",
       "      <th>std</th>\n",
       "      <td>36370.324545</td>\n",
       "      <td>120.208387</td>\n",
       "      <td>23.266174</td>\n",
       "      <td>1.748255</td>\n",
       "      <td>21.973266</td>\n",
       "      <td>161.127249</td>\n",
       "      <td>181.163271</td>\n",
       "      <td>24.775812</td>\n",
       "      <td>8.973616</td>\n",
       "      <td>0.971364</td>\n",
       "      <td>...</td>\n",
       "      <td>8.713585</td>\n",
       "      <td>10.185401</td>\n",
       "      <td>1.908755</td>\n",
       "      <td>2.242874</td>\n",
       "      <td>1.975536</td>\n",
       "      <td>0.510017</td>\n",
       "      <td>0.494853</td>\n",
       "      <td>13.505985</td>\n",
       "      <td>24.970896</td>\n",
       "      <td>21.816151</td>\n",
       "    </tr>\n",
       "    <tr>\n",
       "      <th>min</th>\n",
       "      <td>1.000000</td>\n",
       "      <td>1.000000</td>\n",
       "      <td>1.000000</td>\n",
       "      <td>1.000000</td>\n",
       "      <td>1.000000</td>\n",
       "      <td>1.000000</td>\n",
       "      <td>1.000000</td>\n",
       "      <td>1.000000</td>\n",
       "      <td>1.000000</td>\n",
       "      <td>0.000000</td>\n",
       "      <td>...</td>\n",
       "      <td>-23.775900</td>\n",
       "      <td>-32.037102</td>\n",
       "      <td>-16.243299</td>\n",
       "      <td>-8.212550</td>\n",
       "      <td>-4.218120</td>\n",
       "      <td>0.911651</td>\n",
       "      <td>3.255160</td>\n",
       "      <td>15.828799</td>\n",
       "      <td>-82.159584</td>\n",
       "      <td>-171.274857</td>\n",
       "    </tr>\n",
       "    <tr>\n",
       "      <th>25%</th>\n",
       "      <td>31498.250000</td>\n",
       "      <td>105.000000</td>\n",
       "      <td>19.000000</td>\n",
       "      <td>1.000000</td>\n",
       "      <td>19.000000</td>\n",
       "      <td>127.000000</td>\n",
       "      <td>151.000000</td>\n",
       "      <td>25.000000</td>\n",
       "      <td>9.000000</td>\n",
       "      <td>0.000000</td>\n",
       "      <td>...</td>\n",
       "      <td>3.677170</td>\n",
       "      <td>-10.280800</td>\n",
       "      <td>-7.809838</td>\n",
       "      <td>-0.833356</td>\n",
       "      <td>-2.147160</td>\n",
       "      <td>5.657500</td>\n",
       "      <td>5.764640</td>\n",
       "      <td>80.467125</td>\n",
       "      <td>-4.176677</td>\n",
       "      <td>-17.612553</td>\n",
       "    </tr>\n",
       "    <tr>\n",
       "      <th>50%</th>\n",
       "      <td>62995.500000</td>\n",
       "      <td>210.000000</td>\n",
       "      <td>39.000000</td>\n",
       "      <td>3.000000</td>\n",
       "      <td>37.000000</td>\n",
       "      <td>254.000000</td>\n",
       "      <td>299.000000</td>\n",
       "      <td>47.000000</td>\n",
       "      <td>16.000000</td>\n",
       "      <td>1.000000</td>\n",
       "      <td>...</td>\n",
       "      <td>10.262000</td>\n",
       "      <td>-2.700850</td>\n",
       "      <td>-6.360590</td>\n",
       "      <td>0.761282</td>\n",
       "      <td>-1.483980</td>\n",
       "      <td>5.948610</td>\n",
       "      <td>6.094840</td>\n",
       "      <td>91.605530</td>\n",
       "      <td>12.548314</td>\n",
       "      <td>-1.749521</td>\n",
       "    </tr>\n",
       "    <tr>\n",
       "      <th>75%</th>\n",
       "      <td>94492.750000</td>\n",
       "      <td>314.000000</td>\n",
       "      <td>58.000000</td>\n",
       "      <td>4.000000</td>\n",
       "      <td>57.000000</td>\n",
       "      <td>405.000000</td>\n",
       "      <td>471.000000</td>\n",
       "      <td>66.000000</td>\n",
       "      <td>23.000000</td>\n",
       "      <td>2.000000</td>\n",
       "      <td>...</td>\n",
       "      <td>15.694800</td>\n",
       "      <td>6.523660</td>\n",
       "      <td>-5.192128</td>\n",
       "      <td>2.203208</td>\n",
       "      <td>1.430360</td>\n",
       "      <td>6.257400</td>\n",
       "      <td>6.423440</td>\n",
       "      <td>99.315315</td>\n",
       "      <td>28.257418</td>\n",
       "      <td>15.010160</td>\n",
       "    </tr>\n",
       "    <tr>\n",
       "      <th>max</th>\n",
       "      <td>125990.000000</td>\n",
       "      <td>416.000000</td>\n",
       "      <td>134.000000</td>\n",
       "      <td>14.000000</td>\n",
       "      <td>77.000000</td>\n",
       "      <td>556.000000</td>\n",
       "      <td>638.000000</td>\n",
       "      <td>87.000000</td>\n",
       "      <td>31.000000</td>\n",
       "      <td>4.000000</td>\n",
       "      <td>...</td>\n",
       "      <td>32.058800</td>\n",
       "      <td>27.212601</td>\n",
       "      <td>-0.886191</td>\n",
       "      <td>9.163620</td>\n",
       "      <td>5.021980</td>\n",
       "      <td>7.216850</td>\n",
       "      <td>8.866660</td>\n",
       "      <td>118.739052</td>\n",
       "      <td>89.137764</td>\n",
       "      <td>177.045273</td>\n",
       "    </tr>\n",
       "  </tbody>\n",
       "</table>\n",
       "<p>8 rows × 34 columns</p>\n",
       "</div>"
      ],
      "text/plain": [
       "          Unnamed: 0        GAME_ID     PA_IN_GAME    PITCH_IN_PA  \\\n",
       "count  125990.000000  125990.000000  125990.000000  125990.000000   \n",
       "mean    62995.500000     209.136241      39.392841       2.934423   \n",
       "std     36370.324545     120.208387      23.266174       1.748255   \n",
       "min         1.000000       1.000000       1.000000       1.000000   \n",
       "25%     31498.250000     105.000000      19.000000       1.000000   \n",
       "50%     62995.500000     210.000000      39.000000       3.000000   \n",
       "75%     94492.750000     314.000000      58.000000       4.000000   \n",
       "max    125990.000000     416.000000     134.000000      14.000000   \n",
       "\n",
       "          CATCHER_ID     PITCHER_ID      BATTER_ID      UMPIRE_ID  \\\n",
       "count  125990.000000  125990.000000  125990.000000  125990.000000   \n",
       "mean       38.267918     266.021073     307.016152      45.107247   \n",
       "std        21.973266     161.127249     181.163271      24.775812   \n",
       "min         1.000000       1.000000       1.000000       1.000000   \n",
       "25%        19.000000     127.000000     151.000000      25.000000   \n",
       "50%        37.000000     254.000000     299.000000      47.000000   \n",
       "75%        57.000000     405.000000     471.000000      66.000000   \n",
       "max        77.000000     556.000000     638.000000      87.000000   \n",
       "\n",
       "         BALLPARK_ID          BALLS  ...  INDUCED_VERTICAL_BREAK  \\\n",
       "count  125990.000000  125990.000000  ...           125477.000000   \n",
       "mean       15.979998       0.893523  ...                8.669586   \n",
       "std         8.973616       0.971364  ...                8.713585   \n",
       "min         1.000000       0.000000  ...              -23.775900   \n",
       "25%         9.000000       0.000000  ...                3.677170   \n",
       "50%        16.000000       1.000000  ...               10.262000   \n",
       "75%        23.000000       2.000000  ...               15.694800   \n",
       "max        31.000000       4.000000  ...               32.058800   \n",
       "\n",
       "       HORIZONTAL_BREAK  VERTICAL_APPROACH_ANGLE  HORIZONTAL_APPROACH_ANGLE  \\\n",
       "count     125477.000000            125478.000000              125478.000000   \n",
       "mean          -1.576582                -6.590230                   0.615533   \n",
       "std           10.185401                 1.908755                   2.242874   \n",
       "min          -32.037102               -16.243299                  -8.212550   \n",
       "25%          -10.280800                -7.809838                  -0.833356   \n",
       "50%           -2.700850                -6.360590                   0.761282   \n",
       "75%            6.523660                -5.192128                   2.203208   \n",
       "max           27.212601                -0.886191                   9.163620   \n",
       "\n",
       "        RELEASE_SIDE  RELEASE_HEIGHT  RELEASE_EXTENSION  EXIT_VELOCITY  \\\n",
       "count  125477.000000   125477.000000      125477.000000   19709.000000   \n",
       "mean       -0.695532        5.920421           6.087316      89.019422   \n",
       "std         1.975536        0.510017           0.494853      13.505985   \n",
       "min        -4.218120        0.911651           3.255160      15.828799   \n",
       "25%        -2.147160        5.657500           5.764640      80.467125   \n",
       "50%        -1.483980        5.948610           6.094840      91.605530   \n",
       "75%         1.430360        6.257400           6.423440      99.315315   \n",
       "max         5.021980        7.216850           8.866660     118.739052   \n",
       "\n",
       "       LAUNCH_ANGLE   SPRAY_ANGLE  \n",
       "count  19709.000000  19709.000000  \n",
       "mean      11.638776     -1.271202  \n",
       "std       24.970896     21.816151  \n",
       "min      -82.159584   -171.274857  \n",
       "25%       -4.176677    -17.612553  \n",
       "50%       12.548314     -1.749521  \n",
       "75%       28.257418     15.010160  \n",
       "max       89.137764    177.045273  \n",
       "\n",
       "[8 rows x 34 columns]"
      ]
     },
     "execution_count": 5,
     "metadata": {},
     "output_type": "execute_result"
    }
   ],
   "source": [
    "# Descriptive statistics of the dataframe with the pandas describe() method\n",
    "pitch_data.describe()"
   ]
  },
  {
   "cell_type": "markdown",
   "metadata": {},
   "source": [
    "# [An explanation of my chosen model features]"
   ]
  },
  {
   "cell_type": "markdown",
   "metadata": {},
   "source": [
    "## Feature Selection"
   ]
  },
  {
   "cell_type": "markdown",
   "metadata": {},
   "source": [
    "There are 40 features in this dataset. More complex classification models like the tree based models I will use later should be able to learn non-linear dependencies, I don't want to use basic linear metrics to remove some variables. However to simplify the model and for runtime considerations, I want to include features that are more strongly correlated with a pitch being called strike or not with my baseball knowledge. I select 15 of those.\n",
    "\n",
    "My guess is that the pitch location(side and height) and strike zone(top and bottom) would be the most important features. As for Balls/Strikes, those are the ones that can influence the umpire's preference for their strike zone. Also, the pitcher side, pitch speed, pitch spin, pitch break(vertical and horizontal), release location(side, height, extension) could all potentially have different visual effect on the umpire and affect the result of the pitches. \n",
    "\n",
    "I wanted to include catcher/pitcher/batter/umpire id/pitch type at first, but eventually decided to abandon those for runtime considerations. I also exclude the variables controlled by the batters or the impact made at plate, like exit velocity, launch angle, spray angle, approach angle and the ones that are more of a runners/at bat situation like pitch in pa, pa in game, ballpark, team score, outs, etc."
   ]
  },
  {
   "cell_type": "code",
   "execution_count": 6,
   "metadata": {},
   "outputs": [],
   "source": [
    "# the 15 selected features\n",
    "include=['BALLS', 'STRIKES', 'BATTER_SIDE', 'PITCHER_SIDE', 'PITCH_SPEED',\n",
    "         'PITCH_LOCATION_SIDE', 'PITCH_LOCATION_HEIGHT', 'STRIKE_ZONE_TOP', 'STRIKE_ZONE_BOTTOM', 'SPIN_RATE',\n",
    "         'INDUCED_VERTICAL_BREAK', 'HORIZONTAL_BREAK', 'RELEASE_SIDE', 'RELEASE_HEIGHT', 'RELEASE_EXTENSION']\n",
    "\n",
    "# the ones that are categorical from those 15 features\n",
    "categorical=['BALLS', 'STRIKES', 'BATTER_SIDE', 'PITCHER_SIDE']\n",
    "\n",
    "# the ones that are numeric from those 15 features\n",
    "numeric=['PITCH_SPEED', 'PITCH_LOCATION_SIDE', 'PITCH_LOCATION_HEIGHT', 'STRIKE_ZONE_TOP', 'STRIKE_ZONE_BOTTOM', 'SPIN_RATE',\n",
    "         'INDUCED_VERTICAL_BREAK', 'HORIZONTAL_BREAK', 'RELEASE_SIDE', 'RELEASE_HEIGHT', 'RELEASE_EXTENSION']"
   ]
  },
  {
   "cell_type": "markdown",
   "metadata": {},
   "source": [
    "# [A model to predict the probability of a called strike of a given pitch ]"
   ]
  },
  {
   "cell_type": "markdown",
   "metadata": {},
   "source": [
    "## Model Building"
   ]
  },
  {
   "cell_type": "code",
   "execution_count": 7,
   "metadata": {},
   "outputs": [
    {
     "data": {
      "text/plain": [
       "array(['InPlay', 'StrikeSwinging', 'BallCalled', 'FoulBall',\n",
       "       'StrikeCalled', 'HitByPitch', nan, 'Undefined'], dtype=object)"
      ]
     },
     "execution_count": 7,
     "metadata": {},
     "output_type": "execute_result"
    }
   ],
   "source": [
    "# check what I have in the PITCH_RESULT column\n",
    "pitch_data['PITCH_RESULT'].unique()"
   ]
  },
  {
   "cell_type": "markdown",
   "metadata": {},
   "source": [
    "To build a model predicting the probability of a called strike of a given pitch, I will only include the rows that have BallCalled or StrikeCalled as their pitch result."
   ]
  },
  {
   "cell_type": "code",
   "execution_count": 8,
   "metadata": {},
   "outputs": [],
   "source": [
    "pitch_data_model = pitch_data[(pitch_data['PITCH_RESULT']=='BallCalled')|(pitch_data['PITCH_RESULT']=='StrikeCalled')]"
   ]
  },
  {
   "cell_type": "code",
   "execution_count": 9,
   "metadata": {},
   "outputs": [
    {
     "name": "stderr",
     "output_type": "stream",
     "text": [
      "C:\\Users\\allen\\anaconda3\\lib\\site-packages\\pandas\\core\\frame.py:2963: SettingWithCopyWarning: \n",
      "A value is trying to be set on a copy of a slice from a DataFrame.\n",
      "Try using .loc[row_indexer,col_indexer] = value instead\n",
      "\n",
      "See the caveats in the documentation: https://pandas.pydata.org/pandas-docs/stable/user_guide/indexing.html#returning-a-view-versus-a-copy\n",
      "  self[k1] = value[k2]\n"
     ]
    }
   ],
   "source": [
    "# build a new dataframe pitch_data_include to include the 15 features\n",
    "pitch_data_include = pitch_data_model[include]\n",
    "\n",
    "# turn the categorical variables into 'category' type\n",
    "pitch_data_include[categorical] = pitch_data_include[categorical].astype('category')\n",
    "\n",
    "# one-hot encode these categorical variables\n",
    "pitch_data_include = pd.concat([pitch_data_include, pd.get_dummies(pitch_data_include[categorical])], axis=1) \n",
    "\n",
    "# drop the unnecessary columns\n",
    "pitch_data_include = pitch_data_include.drop(columns=categorical)\n",
    "\n",
    "# scale and center numeric variables\n",
    "pitch_data_include[numeric] = StandardScaler().fit_transform(pitch_data_include[numeric]) "
   ]
  },
  {
   "cell_type": "markdown",
   "metadata": {},
   "source": [
    "### Check Missing Values"
   ]
  },
  {
   "cell_type": "code",
   "execution_count": 10,
   "metadata": {
    "scrolled": true
   },
   "outputs": [
    {
     "data": {
      "text/plain": [
       "['PITCH_SPEED',\n",
       " 'PITCH_LOCATION_SIDE',\n",
       " 'PITCH_LOCATION_HEIGHT',\n",
       " 'SPIN_RATE',\n",
       " 'INDUCED_VERTICAL_BREAK',\n",
       " 'HORIZONTAL_BREAK',\n",
       " 'RELEASE_SIDE',\n",
       " 'RELEASE_HEIGHT',\n",
       " 'RELEASE_EXTENSION']"
      ]
     },
     "execution_count": 10,
     "metadata": {},
     "output_type": "execute_result"
    }
   ],
   "source": [
    "# check which columns have missing values\n",
    "pitch_data_include.columns[pitch_data_include.isna().any()].tolist()"
   ]
  },
  {
   "cell_type": "markdown",
   "metadata": {},
   "source": [
    "### Missing Data Imputation"
   ]
  },
  {
   "cell_type": "markdown",
   "metadata": {},
   "source": [
    "A popular approach to missing data imputation is to use a model to predict the missing values. This requires a model to be created for each input variable that has missing values. Although any one among a range of different models can be used to predict the missing values, the k-nearest neighbor (KNN) algorithm has proven to be generally effective, often referred to as “nearest neighbor imputation.”"
   ]
  },
  {
   "cell_type": "code",
   "execution_count": 11,
   "metadata": {
    "scrolled": true
   },
   "outputs": [
    {
     "name": "stderr",
     "output_type": "stream",
     "text": [
      "C:\\Users\\allen\\anaconda3\\lib\\site-packages\\pandas\\core\\indexing.py:965: SettingWithCopyWarning: \n",
      "A value is trying to be set on a copy of a slice from a DataFrame.\n",
      "Try using .loc[row_indexer,col_indexer] = value instead\n",
      "\n",
      "See the caveats in the documentation: https://pandas.pydata.org/pandas-docs/stable/user_guide/indexing.html#returning-a-view-versus-a-copy\n",
      "  self.obj[item] = s\n"
     ]
    },
    {
     "name": "stdout",
     "output_type": "stream",
     "text": [
      "Missing: 0\n"
     ]
    }
   ],
   "source": [
    "# turn the PITCH_RESULT column into categorical type as well\n",
    "pitch_data_model.loc[:, 'PITCH_RESULT'] = pitch_data_model.loc[:, 'PITCH_RESULT'].astype('category')\n",
    "\n",
    "# set input and output elements\n",
    "X = pitch_data_include\n",
    "y = pitch_data_model.loc[:, 'PITCH_RESULT']\n",
    "\n",
    "# define imputer\n",
    "imputer = KNNImputer()\n",
    "\n",
    "# fit on the dataset\n",
    "imputer.fit(X)\n",
    "\n",
    "# transform the dataset\n",
    "Xtrans = imputer.transform(X)\n",
    "\n",
    "# print total missing\n",
    "print('Missing: %d' % sum(isnan(Xtrans).flatten()))\n",
    "\n",
    "# put the transformed dataset back into pitch_data_include\n",
    "pitch_data_include[pitch_data_include.columns]=Xtrans"
   ]
  },
  {
   "cell_type": "code",
   "execution_count": 12,
   "metadata": {},
   "outputs": [],
   "source": [
    "# set input and output elements again\n",
    "X = pitch_data_include\n",
    "y = pitch_data_model['PITCH_RESULT']"
   ]
  },
  {
   "cell_type": "markdown",
   "metadata": {},
   "source": [
    "I've settled on 6 popular classifiers to compare. I'll use:<br>\n",
    "\n",
    "logistic regression<br>\n",
    "k-nearest neighbors<br>\n",
    "decision tree<br>\n",
    "random forest<br>\n",
    "gradient boosting<br>\n",
    "xgboost<br>\n",
    "\n",
    "And I'm going to use 4 metrics to evaluate the models, which together should give a good picture of the best overall model:<br>\n",
    "\n",
    "F1 score<br>\n",
    "ROC AUC<br>\n",
    "balanced accuracy<br>\n",
    "log loss<br>\n",
    "I'll run with largely default settings for each of the models to keep a relatively level playing field. Once I pick the best model, I'll do some parameter tuning."
   ]
  },
  {
   "cell_type": "code",
   "execution_count": 13,
   "metadata": {},
   "outputs": [],
   "source": [
    "# scoring metrics\n",
    "scoring = {\n",
    "    'f1_weighted': 'f1_weighted',\n",
    "    'accuracy': 'balanced_accuracy',\n",
    "    'roc_auc': 'roc_auc_ovr_weighted',\n",
    "    'neg_log_loss': 'neg_log_loss'\n",
    "    }\n",
    "\n",
    "# for results df\n",
    "eval_cols = [\n",
    "    'models',\n",
    "    'F1 Score',\n",
    "    'Balanced Accuracy',\n",
    "    'ROC AUC',\n",
    "    'Neg Log Loss'\n",
    "    ]\n",
    "\n",
    "# define classifier models\n",
    "classifiers = [\n",
    "    LogisticRegression(multi_class='multinomial', max_iter=100),\n",
    "    KNeighborsClassifier(),\n",
    "    DecisionTreeClassifier(),\n",
    "    RandomForestClassifier(),\n",
    "    GradientBoostingClassifier(),\n",
    "    XGBClassifier()\n",
    "    ]\n",
    "\n",
    "# classifier names\n",
    "clf_names = [\n",
    "    'Logistic Regression',\n",
    "    'KNN',\n",
    "    'Decision Tree',\n",
    "    'Random Forest',\n",
    "    'Gradient Boosting',\n",
    "    'XGBClassifier'\n",
    "    ]"
   ]
  },
  {
   "cell_type": "markdown",
   "metadata": {},
   "source": [
    "I drop each model into sklearn's cross_validate and compare the scores."
   ]
  },
  {
   "cell_type": "code",
   "execution_count": 14,
   "metadata": {
    "scrolled": true
   },
   "outputs": [
    {
     "name": "stdout",
     "output_type": "stream",
     "text": [
      "Time to cross-validate Logistic Regression = 0.351 min.\n",
      "Time to cross-validate KNN = 5.005 min.\n",
      "Time to cross-validate Decision Tree = 0.235 min.\n",
      "Time to cross-validate Random Forest = 2.423 min.\n",
      "Time to cross-validate Gradient Boosting = 3.982 min.\n",
      "Time to cross-validate XGBClassifier = 1.152 min.\n"
     ]
    },
    {
     "data": {
      "text/html": [
       "<div>\n",
       "<style scoped>\n",
       "    .dataframe tbody tr th:only-of-type {\n",
       "        vertical-align: middle;\n",
       "    }\n",
       "\n",
       "    .dataframe tbody tr th {\n",
       "        vertical-align: top;\n",
       "    }\n",
       "\n",
       "    .dataframe thead th {\n",
       "        text-align: right;\n",
       "    }\n",
       "</style>\n",
       "<table border=\"1\" class=\"dataframe\">\n",
       "  <thead>\n",
       "    <tr style=\"text-align: right;\">\n",
       "      <th></th>\n",
       "      <th>models</th>\n",
       "      <th>F1 Score</th>\n",
       "      <th>Balanced Accuracy</th>\n",
       "      <th>ROC AUC</th>\n",
       "      <th>Neg Log Loss</th>\n",
       "    </tr>\n",
       "  </thead>\n",
       "  <tbody>\n",
       "    <tr>\n",
       "      <th>0</th>\n",
       "      <td>Logistic Regression</td>\n",
       "      <td>0.597159</td>\n",
       "      <td>0.514412</td>\n",
       "      <td>0.705458</td>\n",
       "      <td>-0.562351</td>\n",
       "    </tr>\n",
       "    <tr>\n",
       "      <th>1</th>\n",
       "      <td>KNN</td>\n",
       "      <td>0.821406</td>\n",
       "      <td>0.796069</td>\n",
       "      <td>0.879452</td>\n",
       "      <td>-0.852712</td>\n",
       "    </tr>\n",
       "    <tr>\n",
       "      <th>2</th>\n",
       "      <td>Decision Tree</td>\n",
       "      <td>0.894225</td>\n",
       "      <td>0.876705</td>\n",
       "      <td>0.877228</td>\n",
       "      <td>-3.640682</td>\n",
       "    </tr>\n",
       "    <tr>\n",
       "      <th>3</th>\n",
       "      <td>Random Forest</td>\n",
       "      <td>0.924076</td>\n",
       "      <td>0.911507</td>\n",
       "      <td>0.973251</td>\n",
       "      <td>-0.211355</td>\n",
       "    </tr>\n",
       "    <tr>\n",
       "      <th>4</th>\n",
       "      <td>Gradient Boosting</td>\n",
       "      <td>0.927982</td>\n",
       "      <td>0.916905</td>\n",
       "      <td>0.979222</td>\n",
       "      <td>-0.174972</td>\n",
       "    </tr>\n",
       "    <tr>\n",
       "      <th>5</th>\n",
       "      <td>XGBClassifier</td>\n",
       "      <td>0.927017</td>\n",
       "      <td>0.916824</td>\n",
       "      <td>0.978974</td>\n",
       "      <td>-0.175782</td>\n",
       "    </tr>\n",
       "  </tbody>\n",
       "</table>\n",
       "</div>"
      ],
      "text/plain": [
       "                models  F1 Score  Balanced Accuracy   ROC AUC  Neg Log Loss\n",
       "0  Logistic Regression  0.597159           0.514412  0.705458     -0.562351\n",
       "1                  KNN  0.821406           0.796069  0.879452     -0.852712\n",
       "2        Decision Tree  0.894225           0.876705  0.877228     -3.640682\n",
       "3        Random Forest  0.924076           0.911507  0.973251     -0.211355\n",
       "4    Gradient Boosting  0.927982           0.916905  0.979222     -0.174972\n",
       "5        XGBClassifier  0.927017           0.916824  0.978974     -0.175782"
      ]
     },
     "metadata": {},
     "output_type": "display_data"
    }
   ],
   "source": [
    "f1, acc, roc_auc, log_loss = [], [], [], []\n",
    "for clf, clf_nm in zip(classifiers, clf_names):\n",
    "\n",
    "    start = time.time()\n",
    "    \n",
    "    # cross-validate 5 times\n",
    "    res = cross_validate(clf, X, y, cv=5, scoring=scoring)\n",
    "    results = pd.DataFrame(res)\n",
    "    \n",
    "    stop = time.time()\n",
    "\n",
    "    print('Time to cross-validate %s = %0.3f min.' % (clf_nm, (stop - start) / 60))\n",
    "\n",
    "    # save average scores\n",
    "    f1.append(np.mean(results.test_f1_weighted))\n",
    "    acc.append(np.mean(results.test_accuracy))\n",
    "    roc_auc.append(np.mean(results.test_roc_auc))\n",
    "    log_loss.append(np.mean(results.test_neg_log_loss))\n",
    "\n",
    "# save results to df\n",
    "model_eval = pd.DataFrame(data=zip(clf_names, f1, acc, roc_auc, log_loss),\n",
    "                          columns=eval_cols)\n",
    "\n",
    "display(model_eval)"
   ]
  },
  {
   "cell_type": "markdown",
   "metadata": {},
   "source": [
    "Overall, the gradient boosting model is the best with better F1 score, Accuracy, ROC AUC and Log Loss. XGBClassifier has basically the same result, but I'll go with gradient boosting model this time."
   ]
  },
  {
   "cell_type": "markdown",
   "metadata": {},
   "source": [
    "## Parameter Tuning"
   ]
  },
  {
   "cell_type": "markdown",
   "metadata": {},
   "source": [
    "### Run a baseline model without tuning<br>\n",
    "I use the following baseline scikit-learn library settings.<br>\n",
    "\n",
    "Tree specific parameters<br>\n",
    "n_estimators=100 (number of trees)<br>\n",
    "max_depth=3<br>\n",
    "min_samples_split=2<br>\n",
    "min_samples_leaf=1<br>\n",
    "subsample=1.0<br>\n",
    "\n",
    "Other Parameters<br>\n",
    "learning_rate=0.1 (shrinkage)<br>\n",
    "subsample: 1<br>"
   ]
  },
  {
   "cell_type": "code",
   "execution_count": 15,
   "metadata": {},
   "outputs": [
    {
     "name": "stdout",
     "output_type": "stream",
     "text": [
      "Accuracy of the GBM on test set: 0.920\n",
      "              precision    recall  f1-score   support\n",
      "\n",
      "  BallCalled       0.94      0.95      0.94      9050\n",
      "StrikeCalled       0.88      0.86      0.87      4135\n",
      "\n",
      "    accuracy                           0.92     13185\n",
      "   macro avg       0.91      0.90      0.91     13185\n",
      "weighted avg       0.92      0.92      0.92     13185\n",
      "\n"
     ]
    },
    {
     "data": {
      "image/png": "[encoded data removed]",
      "text/plain": [
       "<Figure size 432x288 with 1 Axes>"
      ]
     },
     "metadata": {
      "needs_background": "light"
     },
     "output_type": "display_data"
    }
   ],
   "source": [
    "X_train, X_test, y_train, y_test = train_test_split(X, y, test_size=0.2)\n",
    "baseline = GradientBoostingClassifier(learning_rate=0.1, n_estimators=100,max_depth=3, min_samples_split=2, min_samples_leaf=1, subsample=1,max_features='sqrt', random_state=10)\n",
    "baseline.fit(X_train,y_train)\n",
    "predictors=list(X_train)\n",
    "feat_imp = pd.Series(baseline.feature_importances_, predictors).sort_values(ascending=False)\n",
    "feat_imp.plot(kind='bar', title='Importance of Features')\n",
    "plt.ylabel('Feature Importance Score')\n",
    "print('Accuracy of the GBM on test set: {:.3f}'.format(baseline.score(X_test, y_test)))\n",
    "pred=baseline.predict(X_test)\n",
    "print(classification_report(y_test, pred))"
   ]
  },
  {
   "cell_type": "markdown",
   "metadata": {},
   "source": [
    "PITCH_LOCATION_SIDE, PITCH_LOCATION_HEIGHT, STRIKES_2, STRIKES_0, STRIKES_1 contributed most to my model, which makes a lot of sense. It's easy to guess why pitch location is highly related to the pitch being called strike or not. As for strikes count, it's probably due to the referee preference for modifying the strike zone in different situations."
   ]
  },
  {
   "cell_type": "markdown",
   "metadata": {},
   "source": [
    "### Tunign n_estimators and Learning rate"
   ]
  },
  {
   "cell_type": "markdown",
   "metadata": {},
   "source": [
    "n_estimators captures the number of trees that we add to the model. A high number of trees can be computationally expensive. Generally, with a change in learning rate,n_estimators should also be adjusted (10-fold decrease in learning_rate should go in line with a approx. 10-fold increase in n_estimators."
   ]
  },
  {
   "cell_type": "code",
   "execution_count": 16,
   "metadata": {},
   "outputs": [
    {
     "name": "stderr",
     "output_type": "stream",
     "text": [
      "C:\\Users\\allen\\anaconda3\\lib\\site-packages\\sklearn\\model_selection\\_search.py:823: FutureWarning: The parameter 'iid' is deprecated in 0.22 and will be removed in 0.24.\n",
      "  \"removed in 0.24.\", FutureWarning\n"
     ]
    },
    {
     "data": {
      "text/plain": [
       "({'mean_fit_time': array([ 16.33315277, 156.06967835, 252.3028266 ,  15.59858069,\n",
       "         141.38011837, 221.87173266,  14.40680652, 125.736305  ,\n",
       "         205.92876129]),\n",
       "  'std_fit_time': array([ 0.72919377,  4.49137056,  2.68382233,  0.9876293 ,  2.17534084,\n",
       "          2.10724028,  1.36837745,  1.3913435 , 23.8087727 ]),\n",
       "  'mean_score_time': array([0.13831296, 0.55126104, 1.32599621, 0.15343156, 0.53493419,\n",
       "         0.969912  , 0.11902804, 0.64105458, 0.86535115]),\n",
       "  'std_score_time': array([0.07583394, 0.28516719, 0.19665249, 0.0522208 , 0.14890979,\n",
       "         0.30234733, 0.03523854, 0.22231631, 0.29179728]),\n",
       "  'param_learning_rate': masked_array(data=[0.1, 0.1, 0.1, 0.01, 0.01, 0.01, 0.001, 0.001, 0.001],\n",
       "               mask=[False, False, False, False, False, False, False, False,\n",
       "                     False],\n",
       "         fill_value='?',\n",
       "              dtype=object),\n",
       "  'param_n_estimators': masked_array(data=[100, 1000, 1750, 100, 1000, 1750, 100, 1000, 1750],\n",
       "               mask=[False, False, False, False, False, False, False, False,\n",
       "                     False],\n",
       "         fill_value='?',\n",
       "              dtype=object),\n",
       "  'params': [{'learning_rate': 0.1, 'n_estimators': 100},\n",
       "   {'learning_rate': 0.1, 'n_estimators': 1000},\n",
       "   {'learning_rate': 0.1, 'n_estimators': 1750},\n",
       "   {'learning_rate': 0.01, 'n_estimators': 100},\n",
       "   {'learning_rate': 0.01, 'n_estimators': 1000},\n",
       "   {'learning_rate': 0.01, 'n_estimators': 1750},\n",
       "   {'learning_rate': 0.001, 'n_estimators': 100},\n",
       "   {'learning_rate': 0.001, 'n_estimators': 1000},\n",
       "   {'learning_rate': 0.001, 'n_estimators': 1750}],\n",
       "  'split0_test_score': array([0.92207053, 0.92690557, 0.92633675, 0.68875616, 0.92244975,\n",
       "         0.9253887 , 0.68875616, 0.68875616, 0.85456959]),\n",
       "  'split1_test_score': array([0.92102768, 0.92576792, 0.92567311, 0.68885097, 0.92273417,\n",
       "         0.92576792, 0.68885097, 0.68885097, 0.86376564]),\n",
       "  'split2_test_score': array([0.92387182, 0.92908608, 0.9293705 , 0.68885097, 0.92671597,\n",
       "         0.92794843, 0.68885097, 0.68885097, 0.86149033]),\n",
       "  'split3_test_score': array([0.91789913, 0.92908608, 0.9294653 , 0.68885097, 0.92102768,\n",
       "         0.9254835 , 0.68885097, 0.68885097, 0.85523322]),\n",
       "  'split4_test_score': array([0.92112249, 0.92861206, 0.92794843, 0.68885097, 0.92453546,\n",
       "         0.92728479, 0.68885097, 0.68885097, 0.85665529]),\n",
       "  'mean_test_score': array([0.92119833, 0.92789154, 0.92775882, 0.68883201, 0.92349261,\n",
       "         0.92637467, 0.68883201, 0.68883201, 0.85834281]),\n",
       "  'std_test_score': array([1.94051123e-03, 1.33078249e-03, 1.54389101e-03, 3.79218809e-05,\n",
       "         1.96041821e-03, 1.04302408e-03, 3.79218809e-05, 3.79218809e-05,\n",
       "         3.63506499e-03]),\n",
       "  'rank_test_score': array([5, 1, 2, 7, 4, 3, 7, 7, 6])},\n",
       " {'learning_rate': 0.1, 'n_estimators': 1000},\n",
       " 0.9278915434205537)"
      ]
     },
     "execution_count": 16,
     "metadata": {},
     "output_type": "execute_result"
    }
   ],
   "source": [
    "p_test2 = {'learning_rate':[0.1,0.01,0.001], 'n_estimators':[100,1000,1750]}\n",
    "\n",
    "tuning = GridSearchCV(estimator =GradientBoostingClassifier(max_depth=3, min_samples_split=2, min_samples_leaf=1, subsample=1,max_features='sqrt', random_state=10), \n",
    "            param_grid = p_test2, scoring='accuracy',n_jobs=4,iid=False, cv=5)\n",
    "tuning.fit(X_train,y_train)\n",
    "tuning.cv_results_, tuning.best_params_, tuning.best_score_"
   ]
  },
  {
   "cell_type": "markdown",
   "metadata": {},
   "source": [
    "### max_depth"
   ]
  },
  {
   "cell_type": "markdown",
   "metadata": {},
   "source": [
    "max_depth bounds the maximum depth of the tree. We can use the obtained results to tune the max_depth parameter. "
   ]
  },
  {
   "cell_type": "code",
   "execution_count": 17,
   "metadata": {},
   "outputs": [
    {
     "name": "stderr",
     "output_type": "stream",
     "text": [
      "C:\\Users\\allen\\anaconda3\\lib\\site-packages\\sklearn\\model_selection\\_search.py:823: FutureWarning: The parameter 'iid' is deprecated in 0.22 and will be removed in 0.24.\n",
      "  \"removed in 0.24.\", FutureWarning\n"
     ]
    },
    {
     "data": {
      "text/plain": [
       "({'mean_fit_time': array([124.96685929, 200.71301074, 259.4485775 ]),\n",
       "  'std_fit_time': array([ 1.05045457,  1.10675626, 33.32031444]),\n",
       "  'mean_score_time': array([0.60935297, 0.95943122, 0.93562775]),\n",
       "  'std_score_time': array([0.26219487, 0.16218631, 0.28137736]),\n",
       "  'param_max_depth': masked_array(data=[3, 5, 7],\n",
       "               mask=[False, False, False],\n",
       "         fill_value='?',\n",
       "              dtype=object),\n",
       "  'params': [{'max_depth': 3}, {'max_depth': 5}, {'max_depth': 7}],\n",
       "  'split0_test_score': array([0.92690557, 0.92453546, 0.92273417]),\n",
       "  'split1_test_score': array([0.92576792, 0.92444065, 0.92434585]),\n",
       "  'split2_test_score': array([0.92908608, 0.92956011, 0.92918089]),\n",
       "  'split3_test_score': array([0.92908608, 0.92804323, 0.92861206]),\n",
       "  'split4_test_score': array([0.92861206, 0.9273796 , 0.92908608]),\n",
       "  'mean_test_score': array([0.92789154, 0.92679181, 0.92679181]),\n",
       "  'std_test_score': array([0.00133078, 0.00200968, 0.00271042]),\n",
       "  'rank_test_score': array([1, 3, 2])},\n",
       " {'max_depth': 3},\n",
       " 0.9278915434205537)"
      ]
     },
     "execution_count": 17,
     "metadata": {},
     "output_type": "execute_result"
    }
   ],
   "source": [
    "p_test3 = {'max_depth':[3,5,7]}\n",
    "tuning = GridSearchCV(estimator =GradientBoostingClassifier(learning_rate=0.1,n_estimators=1000, min_samples_split=2, min_samples_leaf=1, subsample=1,max_features='sqrt', random_state=10), \n",
    "            param_grid = p_test3, scoring='accuracy',n_jobs=4,iid=False, cv=5)\n",
    "tuning.fit(X_train,y_train)\n",
    "tuning.cv_results_, tuning.best_params_, tuning.best_score_"
   ]
  },
  {
   "cell_type": "markdown",
   "metadata": {},
   "source": [
    "### Min sample split and min samples leaf"
   ]
  },
  {
   "cell_type": "markdown",
   "metadata": {},
   "source": [
    "min_samples_split sets the minimum number of samples to split while min_samples_leaf sets the minimum number of samples to form a leaf."
   ]
  },
  {
   "cell_type": "code",
   "execution_count": 18,
   "metadata": {},
   "outputs": [
    {
     "name": "stderr",
     "output_type": "stream",
     "text": [
      "C:\\Users\\allen\\anaconda3\\lib\\site-packages\\sklearn\\model_selection\\_search.py:823: FutureWarning: The parameter 'iid' is deprecated in 0.22 and will be removed in 0.24.\n",
      "  \"removed in 0.24.\", FutureWarning\n"
     ]
    },
    {
     "data": {
      "text/plain": [
       "({'mean_fit_time': array([123.81140437, 122.91462288, 123.358076  , 123.23501768,\n",
       "         127.32602205, 123.54353271, 122.9699892 , 121.33298655,\n",
       "         111.94919043]),\n",
       "  'std_fit_time': array([ 0.89335698,  1.06764985,  1.33287742,  0.44159971,  2.37991658,\n",
       "          0.78231289,  0.43347736,  0.77376285, 20.55338198]),\n",
       "  'mean_score_time': array([0.70622993, 0.73065367, 0.40623603, 0.64263649, 0.40019612,\n",
       "         0.56287518, 0.65310607, 0.54373426, 0.43341656]),\n",
       "  'std_score_time': array([0.24031191, 0.26569058, 0.07193816, 0.34848462, 0.04761548,\n",
       "         0.23424781, 0.26504641, 0.18258882, 0.20631173]),\n",
       "  'param_min_samples_leaf': masked_array(data=[1, 1, 1, 5, 5, 5, 9, 9, 9],\n",
       "               mask=[False, False, False, False, False, False, False, False,\n",
       "                     False],\n",
       "         fill_value='?',\n",
       "              dtype=object),\n",
       "  'param_min_samples_split': masked_array(data=[2, 50, 100, 2, 50, 100, 2, 50, 100],\n",
       "               mask=[False, False, False, False, False, False, False, False,\n",
       "                     False],\n",
       "         fill_value='?',\n",
       "              dtype=object),\n",
       "  'params': [{'min_samples_leaf': 1, 'min_samples_split': 2},\n",
       "   {'min_samples_leaf': 1, 'min_samples_split': 50},\n",
       "   {'min_samples_leaf': 1, 'min_samples_split': 100},\n",
       "   {'min_samples_leaf': 5, 'min_samples_split': 2},\n",
       "   {'min_samples_leaf': 5, 'min_samples_split': 50},\n",
       "   {'min_samples_leaf': 5, 'min_samples_split': 100},\n",
       "   {'min_samples_leaf': 9, 'min_samples_split': 2},\n",
       "   {'min_samples_leaf': 9, 'min_samples_split': 50},\n",
       "   {'min_samples_leaf': 9, 'min_samples_split': 100}],\n",
       "  'split0_test_score': array([0.92690557, 0.92756921, 0.92756921, 0.92576792, 0.92766401,\n",
       "         0.92690557, 0.92756921, 0.92700038, 0.92643155]),\n",
       "  'split1_test_score': array([0.92576792, 0.92586272, 0.92586272, 0.92491468, 0.92671597,\n",
       "         0.92624194, 0.9253887 , 0.92481987, 0.92425104]),\n",
       "  'split2_test_score': array([0.92908608, 0.93117179, 0.92965491, 0.92851725, 0.93098218,\n",
       "         0.92908608, 0.92984452, 0.93022374, 0.92993932]),\n",
       "  'split3_test_score': array([0.92908608, 0.93050815, 0.92956011, 0.9294653 , 0.92899128,\n",
       "         0.92993932, 0.92823284, 0.93117179, 0.92993932]),\n",
       "  'split4_test_score': array([0.92861206, 0.92851725, 0.92870686, 0.92889647, 0.92927569,\n",
       "         0.92880167, 0.92775882, 0.92851725, 0.92927569]),\n",
       "  'mean_test_score': array([0.92789154, 0.92872582, 0.92827076, 0.92751232, 0.92872582,\n",
       "         0.92819492, 0.92775882, 0.92834661, 0.92796739]),\n",
       "  'std_test_score': array([0.00133078, 0.00193587, 0.0014184 , 0.00181827, 0.00145814,\n",
       "         0.00139153, 0.00143026, 0.00227088, 0.00226534]),\n",
       "  'rank_test_score': array([7, 2, 4, 9, 1, 5, 8, 3, 6])},\n",
       " {'min_samples_leaf': 5, 'min_samples_split': 50},\n",
       " 0.9287258248009103)"
      ]
     },
     "execution_count": 18,
     "metadata": {},
     "output_type": "execute_result"
    }
   ],
   "source": [
    "p_test4 = {'min_samples_split':[2,50,100], 'min_samples_leaf':[1,5,9]}\n",
    "\n",
    "tuning = GridSearchCV(estimator =GradientBoostingClassifier(learning_rate=0.1, n_estimators=1000,max_depth=3, subsample=1,max_features='sqrt', random_state=10), \n",
    "            param_grid = p_test4, scoring='accuracy',n_jobs=4,iid=False, cv=5)\n",
    "tuning.fit(X_train,y_train)\n",
    "tuning.cv_results_, tuning.best_params_, tuning.best_score_"
   ]
  },
  {
   "cell_type": "markdown",
   "metadata": {},
   "source": [
    "### Max features"
   ]
  },
  {
   "cell_type": "markdown",
   "metadata": {},
   "source": [
    "The square root of features is usually a good starting point. Let's use CV to tune the parameter."
   ]
  },
  {
   "cell_type": "code",
   "execution_count": 20,
   "metadata": {},
   "outputs": [
    {
     "name": "stderr",
     "output_type": "stream",
     "text": [
      "C:\\Users\\allen\\anaconda3\\lib\\site-packages\\sklearn\\model_selection\\_search.py:823: FutureWarning: The parameter 'iid' is deprecated in 0.22 and will be removed in 0.24.\n",
      "  \"removed in 0.24.\", FutureWarning\n"
     ]
    },
    {
     "data": {
      "text/plain": [
       "({'mean_fit_time': array([ 78.45912037, 145.59197631, 233.49271832]),\n",
       "  'std_fit_time': array([ 2.11662907,  1.0054368 , 30.45410523]),\n",
       "  'mean_score_time': array([0.56749029, 0.57185602, 0.59504457]),\n",
       "  'std_score_time': array([0.23851729, 0.25912376, 0.32167753]),\n",
       "  'param_max_features': masked_array(data=[2, 5, 10],\n",
       "               mask=[False, False, False],\n",
       "         fill_value='?',\n",
       "              dtype=object),\n",
       "  'params': [{'max_features': 2}, {'max_features': 5}, {'max_features': 10}],\n",
       "  'split0_test_score': array([0.9274744 , 0.92709518, 0.92681077]),\n",
       "  'split1_test_score': array([0.9254835 , 0.92567311, 0.92652636]),\n",
       "  'split2_test_score': array([0.93041335, 0.92918089, 0.93031854]),\n",
       "  'split3_test_score': array([0.92880167, 0.93022374, 0.92984452]),\n",
       "  'split4_test_score': array([0.92870686, 0.92823284, 0.92813804]),\n",
       "  'mean_test_score': array([0.92817596, 0.92808115, 0.92832765]),\n",
       "  'std_test_score': array([0.00163834, 0.00158707, 0.00153923]),\n",
       "  'rank_test_score': array([2, 3, 1])},\n",
       " {'max_features': 10},\n",
       " 0.9283276450511945)"
      ]
     },
     "execution_count": 20,
     "metadata": {},
     "output_type": "execute_result"
    }
   ],
   "source": [
    "p_test5 = {'max_features':[2,5,10]}\n",
    "tuning = GridSearchCV(estimator =GradientBoostingClassifier(learning_rate=0.1, n_estimators=1000,max_depth=3, min_samples_split=50, min_samples_leaf=5, subsample=1, random_state=10), \n",
    "param_grid = p_test5, scoring='accuracy',n_jobs=4,iid=False, cv=5)\n",
    "tuning.fit(X_train,y_train)\n",
    "tuning.cv_results_, tuning.best_params_, tuning.best_score_"
   ]
  },
  {
   "cell_type": "markdown",
   "metadata": {},
   "source": [
    "### Subsample"
   ]
  },
  {
   "cell_type": "markdown",
   "metadata": {},
   "source": [
    "Subsample sets the fraction of samples to be used for fitting the individual base learners. Values lower than 1 generally lead to a reduction of variance and an increase in bias."
   ]
  },
  {
   "cell_type": "code",
   "execution_count": 22,
   "metadata": {},
   "outputs": [
    {
     "name": "stderr",
     "output_type": "stream",
     "text": [
      "C:\\Users\\allen\\anaconda3\\lib\\site-packages\\sklearn\\model_selection\\_search.py:823: FutureWarning: The parameter 'iid' is deprecated in 0.22 and will be removed in 0.24.\n",
      "  \"removed in 0.24.\", FutureWarning\n"
     ]
    },
    {
     "data": {
      "text/plain": [
       "({'mean_fit_time': array([217.57502508, 236.20861716, 231.75644674]),\n",
       "  'std_fit_time': array([ 6.16541282,  1.00774309, 21.76429024]),\n",
       "  'mean_score_time': array([0.52994833, 0.74260073, 0.573804  ]),\n",
       "  'std_score_time': array([0.28300397, 0.22647323, 0.27447263]),\n",
       "  'param_subsample': masked_array(data=[0.7, 0.85, 1],\n",
       "               mask=[False, False, False],\n",
       "         fill_value='?',\n",
       "              dtype=object),\n",
       "  'params': [{'subsample': 0.7}, {'subsample': 0.85}, {'subsample': 1}],\n",
       "  'split0_test_score': array([0.92728479, 0.92756921, 0.92681077]),\n",
       "  'split1_test_score': array([0.92605233, 0.92690557, 0.92652636]),\n",
       "  'split2_test_score': array([0.92785362, 0.92785362, 0.93031854]),\n",
       "  'split3_test_score': array([0.93012893, 0.92851725, 0.92984452]),\n",
       "  'split4_test_score': array([0.92775882, 0.92851725, 0.92813804]),\n",
       "  'mean_test_score': array([0.9278157 , 0.92787258, 0.92832765]),\n",
       "  'std_test_score': array([0.00132265, 0.00060971, 0.00153923]),\n",
       "  'rank_test_score': array([3, 2, 1])},\n",
       " {'subsample': 1},\n",
       " 0.9283276450511945)"
      ]
     },
     "execution_count": 22,
     "metadata": {},
     "output_type": "execute_result"
    }
   ],
   "source": [
    "p_test6= {'subsample':[0.7,0.85,1]}\n",
    "\n",
    "tuning = GridSearchCV(estimator =GradientBoostingClassifier(learning_rate=0.1, n_estimators=1000,max_depth=3, min_samples_split=50, min_samples_leaf=5,max_features=10 , random_state=10), \n",
    "param_grid = p_test6, scoring='accuracy',n_jobs=4,iid=False, cv=5)\n",
    "tuning.fit(X_train,y_train)\n",
    "tuning.cv_results_, tuning.best_params_, tuning.best_score_"
   ]
  },
  {
   "cell_type": "markdown",
   "metadata": {},
   "source": [
    "### Evaluation of final model on Test set"
   ]
  },
  {
   "cell_type": "code",
   "execution_count": 23,
   "metadata": {},
   "outputs": [
    {
     "name": "stdout",
     "output_type": "stream",
     "text": [
      "Accuracy of the GBM on test set: 0.928\n",
      "              precision    recall  f1-score   support\n",
      "\n",
      "  BallCalled       0.95      0.95      0.95      9050\n",
      "StrikeCalled       0.88      0.89      0.88      4135\n",
      "\n",
      "    accuracy                           0.93     13185\n",
      "   macro avg       0.92      0.92      0.92     13185\n",
      "weighted avg       0.93      0.93      0.93     13185\n",
      "\n"
     ]
    },
    {
     "data": {
      "image/png": "[encoded data removed]",
      "text/plain": [
       "<Figure size 432x288 with 1 Axes>"
      ]
     },
     "metadata": {
      "needs_background": "light"
     },
     "output_type": "display_data"
    }
   ],
   "source": [
    "new=GradientBoostingClassifier(learning_rate=0.1, n_estimators=1000,max_depth=3, min_samples_split=50, min_samples_leaf=5,max_features=10 , subsample=1, random_state=10)\n",
    "new.fit(X_train,y_train)\n",
    "predictors=list(X_train)\n",
    "feat_imp = pd.Series(new.feature_importances_, predictors).sort_values(ascending=False)\n",
    "feat_imp.plot(kind='bar', title='Importance of Features')\n",
    "plt.ylabel('Feature Importance Score')\n",
    "print('Accuracy of the GBM on test set: {:.3f}'.format(new.score(X_test, y_test)))\n",
    "pred=new.predict(X_test)\n",
    "print(classification_report(y_test, pred))"
   ]
  },
  {
   "cell_type": "markdown",
   "metadata": {},
   "source": [
    "# [A visualization of my model outputs]"
   ]
  },
  {
   "cell_type": "markdown",
   "metadata": {},
   "source": [
    "## Comparison of ROC AUC"
   ]
  },
  {
   "cell_type": "markdown",
   "metadata": {},
   "source": [
    "Comparing the area under the curve, the two models(baseline and the parameter tuned model) only slightly differ. Model New(the parameter tuned one) performs best on the AUC measure for the test dataset."
   ]
  },
  {
   "cell_type": "code",
   "execution_count": 24,
   "metadata": {},
   "outputs": [
    {
     "name": "stderr",
     "output_type": "stream",
     "text": [
      "C:\\Users\\allen\\anaconda3\\lib\\site-packages\\pandas\\core\\indexing.py:965: SettingWithCopyWarning: \n",
      "A value is trying to be set on a copy of a slice from a DataFrame.\n",
      "Try using .loc[row_indexer,col_indexer] = value instead\n",
      "\n",
      "See the caveats in the documentation: https://pandas.pydata.org/pandas-docs/stable/user_guide/indexing.html#returning-a-view-versus-a-copy\n",
      "  self.obj[item] = s\n"
     ]
    },
    {
     "data": {
      "image/png": "[encoded data removed]",
      "text/plain": [
       "<Figure size 432x288 with 1 Axes>"
      ]
     },
     "metadata": {
      "needs_background": "light"
     },
     "output_type": "display_data"
    }
   ],
   "source": [
    "# set input and output elements again\n",
    "X = pitch_data_include\n",
    "pitch_data_model.loc[:,'PITCH_RESULT'] = pitch_data_model.loc[:,'PITCH_RESULT'].replace({'StrikeCalled': 1, 'BallCalled': 0})\n",
    "y = pitch_data_model.loc[:, 'PITCH_RESULT']\n",
    "X_train, X_test, y_train, y_test = train_test_split(X, y, test_size=0.2)\n",
    "\n",
    "#run models\n",
    "baseline = GradientBoostingClassifier(learning_rate=0.1, n_estimators=100,max_depth=3, min_samples_split=2, min_samples_leaf=1, subsample=1, max_features='sqrt', random_state=10)\n",
    "baseline.fit(X_train,y_train)\n",
    "\n",
    "new=GradientBoostingClassifier(learning_rate=0.1, n_estimators=1000,max_depth=3, min_samples_split=50, min_samples_leaf=5, max_features=10 , subsample=0.7, random_state=10)\n",
    "new.fit(X_train,y_train)\n",
    "\n",
    "#calculate values for ROC AUC plot\n",
    "#baseline model\n",
    "baseline_roc_auc = roc_auc_score(y_test, baseline.predict(X_test))\n",
    "fprB, tprB, thresholdsB = roc_curve(y_test, baseline.predict_proba(X_test)[:,1])\n",
    "#new tuned model \n",
    "new_roc_auc = roc_auc_score(y_test, new.predict(X_test))\n",
    "fprnew, tprnew, thresholds_new = roc_curve(y_test, new.predict_proba(X_test)[:,1])\n",
    "\n",
    "plt.figure()\n",
    "plt.plot(fprB, tprB, label='GBM Baseline (area = %0.2f)' % baseline_roc_auc)\n",
    "plt.plot(fprnew, tprnew, label='GBM Final Model (area = %0.2f)' % new_roc_auc)\n",
    "\n",
    "plt.plot([0, 1], [0, 1],'r--')\n",
    "plt.xlim([0.0, 1.0])\n",
    "plt.ylim([0.0, 1.05])\n",
    "plt.xlabel('False Positive Rate')\n",
    "plt.ylabel('True Positive Rate')\n",
    "plt.title('Receiver operating characteristic')\n",
    "plt.legend(loc=\"lower right\")\n",
    "plt.savefig('Log_ROC')\n",
    "plt.show()"
   ]
  },
  {
   "cell_type": "markdown",
   "metadata": {},
   "source": [
    "# [A calculation of which pitcher in the sample lost the most strikes relative to expectation]"
   ]
  },
  {
   "cell_type": "code",
   "execution_count": 31,
   "metadata": {},
   "outputs": [
    {
     "name": "stderr",
     "output_type": "stream",
     "text": [
      "C:\\Users\\allen\\anaconda3\\lib\\site-packages\\pandas\\core\\indexing.py:965: SettingWithCopyWarning: \n",
      "A value is trying to be set on a copy of a slice from a DataFrame.\n",
      "Try using .loc[row_indexer,col_indexer] = value instead\n",
      "\n",
      "See the caveats in the documentation: https://pandas.pydata.org/pandas-docs/stable/user_guide/indexing.html#returning-a-view-versus-a-copy\n",
      "  self.obj[item] = s\n"
     ]
    },
    {
     "name": "stdout",
     "output_type": "stream",
     "text": [
      "    Game ID  PA in Game  Pitch in PA  Pitcher ID  Strike Probability  \\\n",
      "2       171          63            2         247            0.009852   \n",
      "3       171          10            4         245           91.951201   \n",
      "7       171          58            1          60            0.645818   \n",
      "9       171          36            2         480           34.835882   \n",
      "10      171          59            3          60           81.474641   \n",
      "\n",
      "   Pitch Result Prediction Actual Pitch Result  \n",
      "2               BallCalled          BallCalled  \n",
      "3             StrikeCalled          BallCalled  \n",
      "7               BallCalled          BallCalled  \n",
      "9               BallCalled        StrikeCalled  \n",
      "10            StrikeCalled        StrikeCalled  \n"
     ]
    }
   ],
   "source": [
    "# set input and output elements again\n",
    "X = pitch_data_include\n",
    "pitch_data_model.loc[:,'PITCH_RESULT'] = pitch_data_model.loc[:,'PITCH_RESULT'].replace({1: 'StrikeCalled', 0: 'BallCalled'})\n",
    "y = pitch_data_model.loc[:, 'PITCH_RESULT']\n",
    "\n",
    "# apply the model\n",
    "model=GradientBoostingClassifier(learning_rate=0.1, n_estimators=1000,max_depth=3, min_samples_split=50, min_samples_leaf=5, subsample=1, max_features=10, random_state=10)\n",
    "model.fit(X, y)\n",
    "strike_pred = model.predict(X)\n",
    "strike_proba = model.predict_proba(X)\n",
    "\n",
    "# put it all together in the same dataframe\n",
    "data_result = {'Game ID': pitch_data_model.loc[:, 'GAME_ID'],\n",
    "               'PA in Game': pitch_data_model.loc[:, 'PA_IN_GAME'],\n",
    "               'Pitch in PA': pitch_data_model.loc[:, 'PITCH_IN_PA'],\n",
    "               'Pitcher ID': pitch_data_model.loc[:, 'PITCHER_ID'],\n",
    "               'Strike Probability': strike_proba[:,1]*100,\n",
    "               'Pitch Result Prediction': strike_pred,\n",
    "               'Actual Pitch Result': pitch_data_model.loc[:, 'PITCH_RESULT']\n",
    "               }\n",
    "prediction_table = pd.DataFrame(data_result)\n",
    "print(prediction_table.head())"
   ]
  },
  {
   "cell_type": "code",
   "execution_count": 32,
   "metadata": {},
   "outputs": [
    {
     "data": {
      "text/html": [
       "<div>\n",
       "<style scoped>\n",
       "    .dataframe tbody tr th:only-of-type {\n",
       "        vertical-align: middle;\n",
       "    }\n",
       "\n",
       "    .dataframe tbody tr th {\n",
       "        vertical-align: top;\n",
       "    }\n",
       "\n",
       "    .dataframe thead th {\n",
       "        text-align: right;\n",
       "    }\n",
       "</style>\n",
       "<table border=\"1\" class=\"dataframe\">\n",
       "  <thead>\n",
       "    <tr style=\"text-align: right;\">\n",
       "      <th></th>\n",
       "      <th>Pitcher ID</th>\n",
       "      <th>Lost Strikes Percentage</th>\n",
       "    </tr>\n",
       "  </thead>\n",
       "  <tbody>\n",
       "    <tr>\n",
       "      <th>128</th>\n",
       "      <td>129</td>\n",
       "      <td>100.0</td>\n",
       "    </tr>\n",
       "    <tr>\n",
       "      <th>181</th>\n",
       "      <td>182</td>\n",
       "      <td>50.0</td>\n",
       "    </tr>\n",
       "    <tr>\n",
       "      <th>424</th>\n",
       "      <td>426</td>\n",
       "      <td>50.0</td>\n",
       "    </tr>\n",
       "    <tr>\n",
       "      <th>473</th>\n",
       "      <td>475</td>\n",
       "      <td>50.0</td>\n",
       "    </tr>\n",
       "    <tr>\n",
       "      <th>209</th>\n",
       "      <td>210</td>\n",
       "      <td>50.0</td>\n",
       "    </tr>\n",
       "    <tr>\n",
       "      <th>...</th>\n",
       "      <td>...</td>\n",
       "      <td>...</td>\n",
       "    </tr>\n",
       "    <tr>\n",
       "      <th>183</th>\n",
       "      <td>184</td>\n",
       "      <td>0.0</td>\n",
       "    </tr>\n",
       "    <tr>\n",
       "      <th>310</th>\n",
       "      <td>312</td>\n",
       "      <td>0.0</td>\n",
       "    </tr>\n",
       "    <tr>\n",
       "      <th>155</th>\n",
       "      <td>156</td>\n",
       "      <td>0.0</td>\n",
       "    </tr>\n",
       "    <tr>\n",
       "      <th>313</th>\n",
       "      <td>315</td>\n",
       "      <td>0.0</td>\n",
       "    </tr>\n",
       "    <tr>\n",
       "      <th>57</th>\n",
       "      <td>58</td>\n",
       "      <td>0.0</td>\n",
       "    </tr>\n",
       "  </tbody>\n",
       "</table>\n",
       "<p>554 rows × 2 columns</p>\n",
       "</div>"
      ],
      "text/plain": [
       "     Pitcher ID  Lost Strikes Percentage\n",
       "128         129                    100.0\n",
       "181         182                     50.0\n",
       "424         426                     50.0\n",
       "473         475                     50.0\n",
       "209         210                     50.0\n",
       "..          ...                      ...\n",
       "183         184                      0.0\n",
       "310         312                      0.0\n",
       "155         156                      0.0\n",
       "313         315                      0.0\n",
       "57           58                      0.0\n",
       "\n",
       "[554 rows x 2 columns]"
      ]
     },
     "execution_count": 32,
     "metadata": {},
     "output_type": "execute_result"
    }
   ],
   "source": [
    "# calculation of which pitcher in the sample lost the most strikes relative to expectation\n",
    "prediction_table['Pitch Result Prediction'] = prediction_table['Pitch Result Prediction'].replace({'StrikeCalled': 1, 'BallCalled': 0})\n",
    "prediction_table['Actual Pitch Result'] = prediction_table['Actual Pitch Result'].replace({'StrikeCalled': 0, 'BallCalled': 1})\n",
    "prediction_table = prediction_table[prediction_table['Pitch Result Prediction']==1]\n",
    "lost_strikes = (prediction_table.groupby('Pitcher ID')['Actual Pitch Result'].sum()/prediction_table.groupby('Pitcher ID')['Pitch Result Prediction'].sum()).reset_index()\n",
    "# simply put, the lost strikes percentage = Predicted strikes being called ball/Predicted Strikes\n",
    "lost_strikes = lost_strikes.rename(columns={0: \"Lost Strikes Percentage\"})\n",
    "lost_strikes['Lost Strikes Percentage']=100*lost_strikes['Lost Strikes Percentage']\n",
    "lost_strikes = lost_strikes.sort_values(by='Lost Strikes Percentage', ascending=False)\n",
    "lost_strikes"
   ]
  }
 ],
 "metadata": {
  "kernelspec": {
   "display_name": "Python 3",
   "language": "python",
   "name": "python3"
  },
  "language_info": {
   "codemirror_mode": {
    "name": "ipython",
    "version": 3
   },
   "file_extension": ".py",
   "mimetype": "text/x-python",
   "name": "python",
   "nbconvert_exporter": "python",
   "pygments_lexer": "ipython3",
   "version": "3.6.10"
  }
 },
 "nbformat": 4,
 "nbformat_minor": 4
}
